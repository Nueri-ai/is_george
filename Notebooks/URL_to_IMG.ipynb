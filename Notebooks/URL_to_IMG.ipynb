{
  "nbformat": 4,
  "nbformat_minor": 0,
  "metadata": {
    "colab": {
      "provenance": [],
      "collapsed_sections": [
        "Rf535l7NXLre",
        "muSRcsaPXQx3",
        "yrxe4dQPXGct"
      ]
    },
    "kernelspec": {
      "name": "python3",
      "display_name": "Python 3"
    },
    "language_info": {
      "name": "python"
    }
  },
  "cells": [
    {
      "cell_type": "markdown",
      "source": [
        "Основная цель этого файла перевод URL ссылок в папки с изображениями."
      ],
      "metadata": {
        "id": "wodovGtn4ife"
      }
    },
    {
      "cell_type": "code",
      "source": [
        "import os\n",
        "import csv\n",
        "import requests\n",
        "from tqdm import tqdm\n",
        "from requests.adapters import HTTPAdapter, Retry\n",
        "from google.colab import files\n"
      ],
      "metadata": {
        "id": "t_Qx5v7-zlUC"
      },
      "execution_count": null,
      "outputs": []
    },
    {
      "cell_type": "markdown",
      "source": [
        "## Загрузка csv файлов"
      ],
      "metadata": {
        "id": "Rf535l7NXLre"
      }
    },
    {
      "cell_type": "code",
      "execution_count": null,
      "metadata": {
        "id": "idXWe2jPzPKI"
      },
      "outputs": [],
      "source": [
        "# Загрузка csv файлов\n",
        "!pip install gdown --quiet\n",
        "import gdown\n",
        "file_id = \"1585FWwha2MJGWyRvKmLRxmqblvmsjSq3\"\n",
        "url = f\"https://drive.google.com/uc?id={file_id}\"\n",
        "output = \"george.csv\"\n",
        "\n",
        "\n",
        "file_id1 = \"1XjTxMwfcSAZJIlcw2cZzVy1UzUCzIoID\"\n",
        "url1 = f\"https://drive.google.com/uc?id={file_id1}\"\n",
        "output1 = 'not_george.csv'\n",
        "\n",
        "gdown.download(url, output, quiet=False)\n",
        "gdown.download(url1, output1, quiet=False)"
      ]
    },
    {
      "cell_type": "code",
      "source": [
        "george_df = pd.read_csv('george.csv', header=None)\n",
        "not_george_df = pd.read_csv('not_george.csv', header=None)\n",
        "george_df.head()"
      ],
      "metadata": {
        "id": "kXrlcGCdzTzo"
      },
      "execution_count": null,
      "outputs": []
    },
    {
      "cell_type": "markdown",
      "source": [
        "## Функция загрузки изображений с URL ссылок"
      ],
      "metadata": {
        "id": "muSRcsaPXQx3"
      }
    },
    {
      "cell_type": "code",
      "source": [
        "# Функция загрузки изображений с URL ссылок\n",
        "def download_images_indexed(csv_path, url_col, out_folder='images'):\n",
        "    os.makedirs(out_folder, exist_ok=True)\n",
        "\n",
        "    sess = requests.Session()\n",
        "    retries = Retry(total=3, backoff_factor=0.3, status_forcelist=[500,502,504])\n",
        "    sess.mount('http://',  HTTPAdapter(max_retries=retries))\n",
        "    sess.mount('https://', HTTPAdapter(max_retries=retries))\n",
        "\n",
        "    with open(csv_path, newline='', encoding='utf-8') as f:\n",
        "        reader = csv.DictReader(f, fieldnames=[url_col])\n",
        "        urls = [row[url_col].strip() for row in reader if row[url_col].strip()]\n",
        "\n",
        "    print(f\"Found {len(urls)} URLs in {csv_path} under column '{url_col}'\")\n",
        "\n",
        "    for idx, url in enumerate(tqdm(urls, desc=\"Downloading\"), start=1):\n",
        "        ext = os.path.splitext(url)[1] or '.jpg'\n",
        "        fname = f\"img_{idx:04d}{ext}\"\n",
        "        path  = os.path.join(out_folder, fname)\n",
        "        try:\n",
        "            r = sess.get(url, timeout=10, stream=True)\n",
        "            r.raise_for_status()\n",
        "            with open(path, 'wb') as out:\n",
        "                for chunk in r.iter_content(1024*1024):\n",
        "                    out.write(chunk)\n",
        "        except Exception as e:\n",
        "            print(f\"[{idx:04d}] ERROR downloading {url}: {e}\")\n"
      ],
      "metadata": {
        "id": "hcGVmgOjzXw0"
      },
      "execution_count": null,
      "outputs": []
    },
    {
      "cell_type": "markdown",
      "source": [
        "## Скачивание на локальный компьютер"
      ],
      "metadata": {
        "id": "yrxe4dQPXGct"
      }
    },
    {
      "cell_type": "code",
      "source": [
        "download_images_indexed(\n",
        "  csv_path='george.csv',\n",
        "  url_col='images_url',\n",
        "  out_folder='images_george1'\n",
        ")"
      ],
      "metadata": {
        "id": "NflDDWwJzdPV"
      },
      "execution_count": null,
      "outputs": []
    },
    {
      "cell_type": "code",
      "source": [
        "!zip -r images_george1.zip images_george1\n",
        "files.download('images_george1.zip')\n"
      ],
      "metadata": {
        "id": "r-8kh7oJzdoo"
      },
      "execution_count": null,
      "outputs": []
    },
    {
      "cell_type": "code",
      "source": [
        "download_images_indexed(\n",
        "  csv_path='not_george.csv',\n",
        "  url_col='image_url',\n",
        "  out_folder='images_not_george1'\n",
        ")"
      ],
      "metadata": {
        "id": "TXu23O5vzdtB"
      },
      "execution_count": null,
      "outputs": []
    },
    {
      "cell_type": "code",
      "source": [
        "!zip -r images_not_george1.zip images_not_george1\n",
        "files.download('images_not_george1.zip')\n"
      ],
      "metadata": {
        "id": "KtGk0SGgzdwe"
      },
      "execution_count": null,
      "outputs": []
    }
  ]
}